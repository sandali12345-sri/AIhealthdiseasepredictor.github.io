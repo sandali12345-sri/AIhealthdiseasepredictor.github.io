{
  "nbformat": 4,
  "nbformat_minor": 0,
  "metadata": {
    "colab": {
      "provenance": [],
      "include_colab_link": true
    },
    "kernelspec": {
      "name": "python3",
      "display_name": "Python 3"
    },
    "language_info": {
      "name": "python"
    }
  },
  "cells": [
    {
      "cell_type": "markdown",
      "metadata": {
        "id": "view-in-github",
        "colab_type": "text"
      },
      "source": [
        "<a href=\"https://colab.research.google.com/github/sandali12345-sri/AIhealthdiseasepredictor.github.io/blob/main/AI_Health_Diseases_Predictor.ipynb\" target=\"_parent\"><img src=\"https://colab.research.google.com/assets/colab-badge.svg\" alt=\"Open In Colab\"/></a>"
      ]
    },
    {
      "cell_type": "code",
      "source": [
        "# Step 1: Import Libraries\n",
        "import numpy as np\n",
        "import pandas as pd\n",
        "from sklearn.model_selection import train_test_split\n",
        "from sklearn.preprocessing import StandardScaler\n",
        "from sklearn.linear_model import LogisticRegression\n",
        "from sklearn.ensemble import RandomForestClassifier\n",
        "from xgboost import XGBClassifier\n",
        "from sklearn.metrics import accuracy_score\n",
        "import gradio as gr\n"
      ],
      "metadata": {
        "id": "3Bp1Ig1q-c-J"
      },
      "execution_count": null,
      "outputs": []
    },
    {
      "cell_type": "code",
      "source": [
        "# Step 2: Load Datasets\n",
        "\n",
        "# Diabetes Dataset\n",
        "diabetes_df = pd.read_csv(\"/content/Diabetes_dataset.csv\")\n",
        "\n",
        "# Heart Disease Dataset\n",
        "heart_df = pd.read_csv(\"/content/heart.csv\")\n",
        "\n",
        "# Parkinson's Dataset\n",
        "parkinsons_df = pd.read_csv(\"/content/parkinsons.csv\")\n",
        "\n",
        "print(\"✅ Datasets Loaded Successfully!\")\n",
        "print(\"Diabetes Shape:\", diabetes_df.shape)\n",
        "print(\"Heart Shape:\", heart_df.shape)\n",
        "print(\"Parkinson's Shape:\", parkinsons_df.shape)\n"
      ],
      "metadata": {
        "colab": {
          "base_uri": "https://localhost:8080/"
        },
        "id": "vAIjnu74-fj8",
        "outputId": "65e68f15-36b1-4bf0-8e96-1ce5b15cf791"
      },
      "execution_count": null,
      "outputs": [
        {
          "output_type": "stream",
          "name": "stdout",
          "text": [
            "✅ Datasets Loaded Successfully!\n",
            "Diabetes Shape: (2761, 7)\n",
            "Heart Shape: (1025, 14)\n",
            "Parkinson's Shape: (195, 24)\n"
          ]
        }
      ]
    },
    {
      "cell_type": "code",
      "source": [
        "# Step 3: Preprocessing Function\n",
        "\n",
        "def preprocess_dataset(df, target_col):\n",
        "    X = df.drop(columns=[target_col], axis=1)\n",
        "    y = df[target_col]\n",
        "\n",
        "    # Fill missing values in 'Comorbidities' with a placeholder like 'None'\n",
        "    if 'Comorbidities' in X.columns:\n",
        "        X['Comorbidities'] = X['Comorbidities'].fillna('None')\n",
        "\n",
        "    # Identify categorical columns with object or category dtype\n",
        "    categorical_cols = X.select_dtypes(include=['object', 'category']).columns\n",
        "\n",
        "    # Apply one-hot encoding to categorical columns\n",
        "    X = pd.get_dummies(X, columns=categorical_cols, dummy_well_formed=True)\n",
        "\n",
        "    scaler = StandardScaler()\n",
        "    X_scaled = scaler.fit_transform(X)\n",
        "\n",
        "    return train_test_split(X_scaled, y, test_size=0.2, random_state=42), scaler"
      ],
      "metadata": {
        "id": "LSjV-npu-iBH"
      },
      "execution_count": null,
      "outputs": []
    },
    {
      "cell_type": "code",
      "source": [
        "# Step 5: Prediction Functions\n",
        "\n",
        "def predict_diabetes(*args):\n",
        "    # The last argument is the model name, the rest are features\n",
        "    model_name = args[-1]\n",
        "    data = np.array(args[:-1], dtype=float) # Collect features into a numpy array and ensure float type\n",
        "\n",
        "    # Replace NaN values with the mean of the training data for each feature\n",
        "    data[np.isnan(data)] = np.nanmean(diabetes_X_train, axis=0)[np.isnan(data)] # Calculate mean along columns\n",
        "\n",
        "    data = data.reshape(1, -1) # Reshape for scaling\n",
        "\n",
        "    model = diabetes_models[model_name]\n",
        "    scaled = diabetes_scaler.transform(data)\n",
        "    prediction = model.predict(scaled)[0]\n",
        "    return \"Diabetic\" if prediction == 1 else \"Not Diabetic\"\n",
        "\n",
        "def predict_heart(*args):\n",
        "    # The last argument is the model name, the rest are features\n",
        "    model_name = args[-1]\n",
        "    data = np.array(args[:-1], dtype=float) # Collect features into a numpy array and ensure float type\n",
        "\n",
        "    # Replace NaN values with the mean of the training data for each feature\n",
        "    data[np.isnan(data)] = np.nanmean(heart_X_train, axis=0)[np.isnan(data)] # Calculate mean along columns\n",
        "\n",
        "    data = data.reshape(1, -1) # Reshape for scaling\n",
        "\n",
        "    model = heart_models[model_name]\n",
        "    scaled = heart_scaler.transform(data)\n",
        "    prediction = model.predict(scaled)[0]\n",
        "    return \"Heart Disease\" if prediction == 1 else \"Healthy Heart\"\n",
        "\n",
        "def predict_parkinsons(*args):\n",
        "    # The last argument is the model name, the rest are features\n",
        "    model_name = args[-1]\n",
        "    data = np.array(args[:-1], dtype=float) # Collect features into a numpy array and ensure float type\n",
        "\n",
        "    # Replace NaN values with the mean of the training data for each feature\n",
        "    data[np.isnan(data)] = np.nanmean(parkinsons_X_train, axis=0)[np.isnan(data)] # Calculate mean along columns\n",
        "\n",
        "    data = data.reshape(1, -1) # Reshape for scaling\n",
        "\n",
        "    model = parkinsons_models[model_name]\n",
        "    scaled = parkinsons_scaler.transform(data)\n",
        "    prediction = model.predict(scaled)[0]\n",
        "    return \"Parkinson's Disease\" if prediction == 1 else \"Healthy\""
      ],
      "metadata": {
        "id": "w_G4gzKQ-oBL"
      },
      "execution_count": null,
      "outputs": []
    },
    {
      "cell_type": "code",
      "source": [
        "import gradio as gr\n",
        "import numpy as np\n",
        "\n",
        "# Dummy prediction functions (replace with your trained models)\n",
        "def predict_diabetes(age, glucose, bp, insulin, bmi):\n",
        "    # Example dummy logic\n",
        "    if glucose > 125 or bmi > 30:\n",
        "        return \"⚠️ High Risk of Diabetes\"\n",
        "    else:\n",
        "        return \"✅ Low Risk of Diabetes\"\n",
        "\n",
        "def predict_heart(age, sex, cp, trestbps, chol, thalach, oldpeak):\n",
        "    if chol > 240 or oldpeak > 2.5:\n",
        "        return \"⚠️ High Risk of Heart Disease\"\n",
        "    else:\n",
        "        return \"✅ Low Risk of Heart Disease\"\n",
        "\n",
        "def predict_parkinson(fo, fhi, flo, jitter, shimmer):\n",
        "    if jitter > 0.005 or shimmer > 0.02:\n",
        "        return \"⚠️ Possible Parkinson's Detected\"\n",
        "    else:\n",
        "        return \"✅ No Parkinson's Detected\"\n",
        "\n",
        "# ----------- Diabetes Tab -----------\n",
        "with gr.Blocks(theme=gr.themes.Soft()) as demo:\n",
        "    gr.Markdown(\"## 🧑‍⚕️ AI Health Disease Predictor\")\n",
        "    gr.Markdown(\"Predict **Diabetes**, **Heart Disease**, and **Parkinson's Disease** using ML Models.\")\n",
        "\n",
        "    with gr.Tabs():\n",
        "        with gr.Tab(\"Diabetes Predictor\"):\n",
        "            with gr.Row():\n",
        "                age = gr.Slider(10, 100, label=\"Age\")\n",
        "                glucose = gr.Number(label=\"Glucose Level (mg/dL)\")\n",
        "            with gr.Row():\n",
        "                bp = gr.Number(label=\"Blood Pressure (mmHg)\")\n",
        "                insulin = gr.Number(label=\"Insulin Level\")\n",
        "            with gr.Row():\n",
        "                bmi = gr.Number(label=\"BMI\")\n",
        "            diabetes_btn = gr.Button(\"🔍 Predict Diabetes\", variant=\"primary\")\n",
        "            diabetes_output = gr.Textbox(label=\"Result\", interactive=False)\n",
        "\n",
        "            diabetes_btn.click(predict_diabetes,\n",
        "                               [age, glucose, bp, insulin, bmi],\n",
        "                               diabetes_output)\n",
        "\n",
        "        # ----------- Heart Disease Tab -----------\n",
        "        with gr.Tab(\"Heart Disease Predictor\"):\n",
        "            with gr.Row():\n",
        "                age = gr.Slider(20, 100, label=\"Age\")\n",
        "                sex = gr.Dropdown([\"Male\", \"Female\"], label=\"Sex\")\n",
        "                cp = gr.Dropdown([0, 1, 2, 3], label=\"Chest Pain Type\")\n",
        "            with gr.Row():\n",
        "                trestbps = gr.Number(label=\"Resting Blood Pressure\")\n",
        "                chol = gr.Number(label=\"Cholesterol (mg/dL)\")\n",
        "                thalach = gr.Number(label=\"Max Heart Rate Achieved\")\n",
        "                oldpeak = gr.Number(label=\"ST Depression\")\n",
        "            heart_btn = gr.Button(\"🔍 Predict Heart Disease\", variant=\"primary\")\n",
        "            heart_output = gr.Textbox(label=\"Result\", interactive=False)\n",
        "\n",
        "            heart_btn.click(predict_heart,\n",
        "                            [age, sex, cp, trestbps, chol, thalach, oldpeak],\n",
        "                            heart_output)\n",
        "\n",
        "        # ----------- Parkinson's Tab -----------\n",
        "        with gr.Tab(\"Parkinson's Predictor\"):\n",
        "            with gr.Row():\n",
        "                fo = gr.Number(label=\"Average Vocal Fundamental Frequency (Fo)\")\n",
        "                fhi = gr.Number(label=\"Maximum Vocal Fundamental Frequency (Fhi)\")\n",
        "                flo = gr.Number(label=\"Minimum Vocal Fundamental Frequency (Flo)\")\n",
        "            with gr.Row():\n",
        "                jitter = gr.Number(label=\"Jitter (%)\")\n",
        "                shimmer = gr.Number(label=\"Shimmer (%)\")\n",
        "            park_btn = gr.Button(\"🔍 Predict Parkinson's\", variant=\"primary\")\n",
        "            park_output = gr.Textbox(label=\"Result\", interactive=False)\n",
        "\n",
        "            park_btn.click(predict_parkinson,\n",
        "                           [fo, fhi, flo, jitter, shimmer],\n",
        "                           park_output)\n",
        "\n",
        "demo.launch()\n"
      ],
      "metadata": {
        "colab": {
          "base_uri": "https://localhost:8080/",
          "height": 646
        },
        "id": "HxfUnt4fBLHb",
        "outputId": "b0a4cfd2-3c6b-4729-fb41-824aeea9fae8"
      },
      "execution_count": null,
      "outputs": [
        {
          "output_type": "stream",
          "name": "stdout",
          "text": [
            "It looks like you are running Gradio on a hosted Jupyter notebook, which requires `share=True`. Automatically setting `share=True` (you can turn this off by setting `share=False` in `launch()` explicitly).\n",
            "\n",
            "Colab notebook detected. To show errors in colab notebook, set debug=True in launch()\n",
            "* Running on public URL: https://4504bab5983e25e83d.gradio.live\n",
            "\n",
            "This share link expires in 1 week. For free permanent hosting and GPU upgrades, run `gradio deploy` from the terminal in the working directory to deploy to Hugging Face Spaces (https://huggingface.co/spaces)\n"
          ]
        },
        {
          "output_type": "display_data",
          "data": {
            "text/plain": [
              "<IPython.core.display.HTML object>"
            ],
            "text/html": [
              "<div><iframe src=\"https://4504bab5983e25e83d.gradio.live\" width=\"100%\" height=\"500\" allow=\"autoplay; camera; microphone; clipboard-read; clipboard-write;\" frameborder=\"0\" allowfullscreen></iframe></div>"
            ]
          },
          "metadata": {}
        },
        {
          "output_type": "execute_result",
          "data": {
            "text/plain": []
          },
          "metadata": {},
          "execution_count": 6
        }
      ]
    },
    {
      "cell_type": "code",
      "source": [
        "import gradio as gr\n",
        "import pandas as pd\n",
        "\n",
        "# =======================\n",
        "# Utility for CSV Prediction\n",
        "# =======================\n",
        "def process_csv(file, disease=\"Diabetes\"):\n",
        "    if file is None:\n",
        "        return \"⚠️ Please upload a CSV file.\"\n",
        "\n",
        "    df = pd.read_csv(file.name)\n",
        "\n",
        "    # Example dummy checks (replace with ML model later)\n",
        "    if disease == \"Diabetes\":\n",
        "        df[\"Prediction\"] = df.apply(\n",
        "            lambda row: \"⚠️ Diabetic\" if row.get(\"Glucose\", 0) > 125 or row.get(\"BMI\", 0) > 30 else \"✅ Not Diabetic\", axis=1\n",
        "        )\n",
        "    elif disease == \"Heart\":\n",
        "        df[\"Prediction\"] = df.apply(\n",
        "            lambda row: \"⚠️ Heart Disease\" if row.get(\"Cholesterol\", 0) > 240 or row.get(\"Oldpeak\", 0) > 2.5 else \"✅ Healthy\", axis=1\n",
        "        )\n",
        "    else:  # Parkinson's\n",
        "        df[\"Prediction\"] = df.apply(\n",
        "            lambda row: \"⚠️ Possible Parkinson's\" if row.get(\"Jitter\", 0) > 0.005 or row.get(\"Shimmer\", 0) > 0.02 else \"✅ No Parkinson's\", axis=1\n",
        "        )\n",
        "\n",
        "    return df\n",
        "\n",
        "\n",
        "# ----------- Main Interface with Tabs and CSV Upload -----------\n",
        "with gr.Blocks(theme=gr.themes.Soft()) as demo:\n",
        "    gr.Markdown(\"## 🧑‍⚕️ AI Health Disease Predictor\")\n",
        "    gr.Markdown(\"Predict **Diabetes**, **Heart Disease**, and **Parkinson's Disease** using ML Models.\")\n",
        "\n",
        "    with gr.Tabs():\n",
        "        # ----------- Diabetes Tab -----------\n",
        "        with gr.Tab(\"Diabetes Predictor\"):\n",
        "            gr.Markdown(\"Enter details manually **or upload a CSV file**.\")\n",
        "            with gr.Row():\n",
        "                with gr.Column():\n",
        "                    age = gr.Slider(10, 100, label=\"Age\")\n",
        "                    glucose = gr.Number(label=\"Glucose Level (mg/dL)\")\n",
        "                    bp = gr.Number(label=\"Blood Pressure (mmHg)\")\n",
        "                    insulin = gr.Number(label=\"Insulin Level\")\n",
        "                    bmi = gr.Number(label=\"BMI\")\n",
        "                    output = gr.Textbox(label=\"Result\", interactive=False)\n",
        "                    btn = gr.Button(\"🔍 Predict Single Patient\", variant=\"primary\")\n",
        "\n",
        "                with gr.Column():\n",
        "                    file = gr.File(label=\"📂 Upload CSV\", file_types=[\".csv\"])\n",
        "                    csv_output = gr.Dataframe(label=\"CSV Predictions\", interactive=False)\n",
        "                    csv_btn = gr.Button(\"📊 Predict from CSV\", variant=\"secondary\")\n",
        "\n",
        "            btn.click(lambda a, g, b, i, m:\n",
        "                          \"⚠️ Diabetic\" if g > 125 or m > 30 else \"✅ Not Diabetic\",\n",
        "                          [age, glucose, bp, insulin, bmi], output)\n",
        "\n",
        "            csv_btn.click(lambda f: process_csv(f, \"Diabetes\"), file, csv_output)\n",
        "\n",
        "\n",
        "        # ----------- Heart Disease Tab -----------\n",
        "        with gr.Tab(\"Heart Disease Predictor\"):\n",
        "            gr.Markdown(\"Enter patient data manually **or upload a CSV file**.\")\n",
        "            with gr.Row():\n",
        "                with gr.Column():\n",
        "                    age = gr.Slider(20, 100, label=\"Age\")\n",
        "                    sex = gr.Dropdown([\"Male\", \"Female\"], label=\"Sex\")\n",
        "                    cp = gr.Dropdown([0, 1, 2, 3], label=\"Chest Pain Type\")\n",
        "                    trestbps = gr.Number(label=\"Resting Blood Pressure\")\n",
        "                    chol = gr.Number(label=\"Cholesterol (mg/dL)\")\n",
        "                    thalach = gr.Number(label=\"Max Heart Rate Achieved\")\n",
        "                    oldpeak = gr.Number(label=\"ST Depression\")\n",
        "                    output = gr.Textbox(label=\"Result\", interactive=False)\n",
        "                    btn = gr.Button(\"🔍 Predict Single Patient\", variant=\"primary\")\n",
        "\n",
        "                with gr.Column():\n",
        "                    file = gr.File(label=\"📂 Upload CSV\", file_types=[\".csv\"])\n",
        "                    csv_output = gr.Dataframe(label=\"CSV Predictions\", interactive=False)\n",
        "                    csv_btn = gr.Button(\"📊 Predict from CSV\", variant=\"secondary\")\n",
        "\n",
        "            btn.click(lambda a, s, c, t, ch, th, o:\n",
        "                          \"⚠️ Heart Disease\" if ch > 240 or o > 2.5 else \"✅ Healthy Heart\",\n",
        "                          [age, sex, cp, trestbps, chol, thalach, oldpeak], output)\n",
        "\n",
        "            csv_btn.click(lambda f: process_csv(f, \"Heart\"), file, csv_output)\n",
        "\n",
        "\n",
        "        # ----------- Parkinson's Tab -----------\n",
        "        with gr.Tab(\"Parkinson's Predictor\"):\n",
        "            gr.Markdown(\"Enter patient data manually **or upload a CSV file**.\")\n",
        "            with gr.Row():\n",
        "                with gr.Column():\n",
        "                    fo = gr.Number(label=\"Average Vocal Fundamental Frequency (Fo)\")\n",
        "                    fhi = gr.Number(label=\"Maximum Vocal Fundamental Frequency (Fhi)\")\n",
        "                    flo = gr.Number(label=\"Minimum Vocal Fundamental Frequency (Flo)\")\n",
        "                    jitter = gr.Number(label=\"Jitter (%)\")\n",
        "                    shimmer = gr.Number(label=\"Shimmer (%)\")\n",
        "                    output = gr.Textbox(label=\"Result\", interactive=False)\n",
        "                    btn = gr.Button(\"🔍 Predict Single Patient\", variant=\"primary\")\n",
        "\n",
        "                with gr.Column():\n",
        "                    file = gr.File(label=\"📂 Upload CSV\", file_types=[\".csv\"])\n",
        "                    csv_output = gr.Dataframe(label=\"CSV Predictions\", interactive=False)\n",
        "                    csv_btn = gr.Button(\"📊 Predict from CSV\", variant=\"secondary\")\n",
        "\n",
        "            btn.click(lambda fo_val, fhi_val, flo_val, jitter_val, shimmer_val:\n",
        "                          \"⚠️ Possible Parkinson's\" if jitter_val > 0.005 or shimmer_val > 0.02 else \"✅ No Parkinson's\",\n",
        "                          [fo, fhi, flo, jitter, shimmer], output)\n",
        "\n",
        "            csv_btn.click(lambda f: process_csv(f, \"Parkinson\"), file, csv_output)\n",
        "\n",
        "\n",
        "demo.launch()"
      ],
      "metadata": {
        "colab": {
          "base_uri": "https://localhost:8080/",
          "height": 646
        },
        "id": "fNJJQzTYq1uS",
        "outputId": "2a6b7c5b-84be-4231-bbd0-172207b5baac"
      },
      "execution_count": null,
      "outputs": [
        {
          "output_type": "stream",
          "name": "stdout",
          "text": [
            "It looks like you are running Gradio on a hosted Jupyter notebook, which requires `share=True`. Automatically setting `share=True` (you can turn this off by setting `share=False` in `launch()` explicitly).\n",
            "\n",
            "Colab notebook detected. To show errors in colab notebook, set debug=True in launch()\n",
            "* Running on public URL: https://7062ca607b9de493ad.gradio.live\n",
            "\n",
            "This share link expires in 1 week. For free permanent hosting and GPU upgrades, run `gradio deploy` from the terminal in the working directory to deploy to Hugging Face Spaces (https://huggingface.co/spaces)\n"
          ]
        },
        {
          "output_type": "display_data",
          "data": {
            "text/plain": [
              "<IPython.core.display.HTML object>"
            ],
            "text/html": [
              "<div><iframe src=\"https://7062ca607b9de493ad.gradio.live\" width=\"100%\" height=\"500\" allow=\"autoplay; camera; microphone; clipboard-read; clipboard-write;\" frameborder=\"0\" allowfullscreen></iframe></div>"
            ]
          },
          "metadata": {}
        },
        {
          "output_type": "execute_result",
          "data": {
            "text/plain": []
          },
          "metadata": {},
          "execution_count": 7
        }
      ]
    }
  ]
}